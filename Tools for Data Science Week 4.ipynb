{
 "cells": [
  {
   "cell_type": "markdown",
   "id": "3c30349d",
   "metadata": {},
   "source": [
    "# My Jupyter Notebook on IBM Watson Studio"
   ]
  },
  {
   "cell_type": "markdown",
   "id": "555acc9a",
   "metadata": {},
   "source": [
    "**Ni Ni**\n",
    "Data Analyst"
   ]
  },
  {
   "cell_type": "markdown",
   "id": "8c5e72f8",
   "metadata": {},
   "source": [
    "*I am interested in Data Science because I come from IT education background, and got recent working experience in sales which equipped me with high interpersonal skills. I believe Data Science would be a good career direction considering both my education and work background."
   ]
  },
  {
   "cell_type": "markdown",
   "id": "83b6724b",
   "metadata": {},
   "source": [
    "### Following cell is a code cell"
   ]
  },
  {
   "cell_type": "code",
   "execution_count": 1,
   "id": "2540a2d3",
   "metadata": {},
   "outputs": [
    {
     "data": {
      "text/plain": [
       "2"
      ]
     },
     "execution_count": 1,
     "metadata": {},
     "output_type": "execute_result"
    }
   ],
   "source": [
    "1+1"
   ]
  },
  {
   "cell_type": "markdown",
   "id": "3c971442",
   "metadata": {},
   "source": [
    "1. Bullet list\n",
    " * List 1\n",
    " * List 2\n",
    "\n",
    "---\n",
    "\n",
    "2. Numbered list\n",
    " 1. List 3\n",
    " 2. List 4\n",
    "\n",
    "---\n",
    "3. Table\n",
    "| Tables        | Are           | Cool  |\n",
    "| ------------- |:-------------:| -----:|\n",
    "| col 3 is      | right-aligned | $1600 |\n",
    "| col 2 is      | centered      |   $12 |\n",
    "| zebra stripes | are neat      |    $1 |\n"
   ]
  },
  {
   "cell_type": "code",
   "execution_count": null,
   "id": "833000b6",
   "metadata": {},
   "outputs": [],
   "source": []
  }
 ],
 "metadata": {
  "kernelspec": {
   "display_name": "Python 3 (ipykernel)",
   "language": "python",
   "name": "python3"
  },
  "language_info": {
   "codemirror_mode": {
    "name": "ipython",
    "version": 3
   },
   "file_extension": ".py",
   "mimetype": "text/x-python",
   "name": "python",
   "nbconvert_exporter": "python",
   "pygments_lexer": "ipython3",
   "version": "3.9.7"
  }
 },
 "nbformat": 4,
 "nbformat_minor": 5
}
